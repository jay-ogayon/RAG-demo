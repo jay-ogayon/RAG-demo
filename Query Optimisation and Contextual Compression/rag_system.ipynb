{
 "cells": [
  {
   "cell_type": "code",
   "execution_count": 2,
   "metadata": {},
   "outputs": [
    {
     "data": {
      "text/plain": [
       "3"
      ]
     },
     "execution_count": 2,
     "metadata": {},
     "output_type": "execute_result"
    }
   ],
   "source": [
    "from langchain_community.document_loaders import PyPDFDirectoryLoader\n",
    "\n",
    "loader = PyPDFDirectoryLoader('data')\n",
    "docs = loader.load()\n",
    "\n",
    "len(docs)"
   ]
  },
  {
   "cell_type": "code",
   "execution_count": 3,
   "metadata": {},
   "outputs": [
    {
     "data": {
      "text/plain": [
       "16"
      ]
     },
     "execution_count": 3,
     "metadata": {},
     "output_type": "execute_result"
    }
   ],
   "source": [
    "from langchain_text_splitters import RecursiveCharacterTextSplitter\n",
    "\n",
    "text_splitter = RecursiveCharacterTextSplitter(chunk_size = 600, chunk_overlap = 60)\n",
    "chunk_docs = text_splitter.split_documents(docs)\n",
    "\n",
    "len(chunk_docs)"
   ]
  },
  {
   "cell_type": "code",
   "execution_count": 4,
   "metadata": {},
   "outputs": [
    {
     "data": {
      "text/plain": [
       "'sk-proj-HLBdBn5jdvVr7o6L7vt6T3BlbkFJnqZAHgt1fnkgUQVOx5PO'"
      ]
     },
     "execution_count": 4,
     "metadata": {},
     "output_type": "execute_result"
    }
   ],
   "source": [
    "import os\n",
    "from dotenv import load_dotenv\n",
    "load_dotenv()\n",
    "\n",
    "openai_api_key = os.getenv(\"OPENAI_API_KEY\")\n",
    "pinecone_api_key = os.getenv(\"PINECONE_API_KEY\")\n",
    "openai_api_key"
   ]
  },
  {
   "cell_type": "code",
   "execution_count": 5,
   "metadata": {},
   "outputs": [],
   "source": [
    "from langchain_openai import OpenAIEmbeddings\n",
    "\n",
    "embeddings = OpenAIEmbeddings(api_key=openai_api_key)"
   ]
  },
  {
   "cell_type": "code",
   "execution_count": 6,
   "metadata": {},
   "outputs": [
    {
     "name": "stderr",
     "output_type": "stream",
     "text": [
      "c:\\Users\\devrpa.operations\\Documents\\RAG\\PromptCompression_QueryOptimisation\\.venv\\Lib\\site-packages\\pinecone\\data\\index.py:1: TqdmWarning: IProgress not found. Please update jupyter and ipywidgets. See https://ipywidgets.readthedocs.io/en/stable/user_install.html\n",
      "  from tqdm.autonotebook import tqdm\n"
     ]
    }
   ],
   "source": [
    "from pinecone import Pinecone\n",
    "\n",
    "pc = Pinecone(api_key=pinecone_api_key)\n",
    "index_name = \"compression\""
   ]
  },
  {
   "cell_type": "code",
   "execution_count": 7,
   "metadata": {},
   "outputs": [],
   "source": [
    "from langchain_pinecone import PineconeVectorStore\n",
    "\n",
    "vector_store = PineconeVectorStore.from_documents(\n",
    "    chunk_docs,\n",
    "    embeddings,\n",
    "    index_name = index_name\n",
    ")"
   ]
  },
  {
   "cell_type": "code",
   "execution_count": 47,
   "metadata": {},
   "outputs": [
    {
     "name": "stdout",
     "output_type": "stream",
     "text": [
      "Relevant docs\n",
      "page_content='to visit is during the spring and summer months when the weather is mild, and the landscape is \n",
      "alive with color. Hikers should wear sturdy hiking boots, weather -appropriate clothing, and bring \n",
      "plenty of water and snacks for longer treks.  \n",
      "2. Mourne  Mountains:  \n",
      "Venture north to County Down, and you'll discover the Mourne Mountains, a landscape of rugged \n",
      "granite peaks that rise majestically above the Irish Sea. Slieve Donard, Northern Ireland's highest \n",
      "peak, beckons intrepid hikers to its summit, offering breathtaking panoramic views of the' metadata={'page': 0.0, 'source': \"data\\\\A Hiker's Paradise.pdf\"}\n",
      "\n",
      "\n",
      "Relevant docs\n",
      "page_content='round trip, depending on the chosen route and hiking pace. The best time to visit is during the \n",
      "summer months when the weather is mild, and the days are long. Hikers should wear sturdy hiking \n",
      "boots with good grip, layers to protect against wind and rain, and bring a camera to capture the \n",
      "breathtaking views.  \n",
      "6. Carrauntoohil:  \n",
      "In the heart of County Kerry lies Carrauntoohil, Ireland's highest peak and a magnet for hikers \n",
      "seeking a challenge. The ascent to Carrauntoohil's summit involves navigating rocky ridges and' metadata={'page': 1.0, 'source': \"data\\\\A Hiker's Paradise.pdf\"}\n",
      "\n",
      "\n",
      "Relevant docs\n",
      "page_content='3 hours round trip, making it suitable for hikers of all abilities. The best time to visit is during the \n",
      "spring and summer months when the weather is mild, and the landscape is alive with color. Hikers \n",
      "should wear sturdy walking shoes, weather -appropriate clothing, and bring a camera to capture \n",
      "the stunning views.  \n",
      "4. Croagh  Patrick:  \n",
      "For centuries, pilgrims and hikers alike have been drawn to the iconic silhouette of Croagh Patrick, \n",
      "rising proudly above County Mayo. Known as Ireland's holiest mountain, Croagh Patrick offers a' metadata={'page': 0.0, 'source': \"data\\\\A Hiker's Paradise.pdf\"}\n",
      "\n",
      "\n",
      "Relevant docs\n",
      "page_content='1. Wicklow  Mountains:  \n",
      "Nestled just south of Dublin, the Wicklow Mountains are a hiker's playground, boasting an \n",
      "extensive network of trails that wind through heather -clad slopes, tranquil lakes, and ancient \n",
      "woodlands. The Wicklow Way, a long -distance trail spanning 131 kilometers, showcases the best of \n",
      "this region, with highlights including the challenging ascent of Lugnaquilla, Wicklow's highest \n",
      "peak, and the serene beauty of Glendalough Valley. Hikes in the Wicklow Mountains can range \n",
      "from a few hours to several days, depending on the chosen route and fitness level. The best time' metadata={'page': 0.0, 'source': \"data\\\\A Hiker's Paradise.pdf\"}\n",
      "\n",
      "\n"
     ]
    }
   ],
   "source": [
    "query = \"I want to hike in the summer. Could you suggest what are the best destinations for hiking? Im also interested in visiting towns\"\n",
    "\n",
    "retriever = vector_store.as_retriever()\n",
    "relevant_docs = retriever.get_relevant_documents(query)\n",
    "\n",
    "for doc in relevant_docs:\n",
    "    print(\"Relevant docs\")\n",
    "    print(doc)\n",
    "    print('\\n')"
   ]
  },
  {
   "cell_type": "code",
   "execution_count": 11,
   "metadata": {},
   "outputs": [],
   "source": [
    "#compressed retriever\n",
    "from langchain_openai import ChatOpenAI\n",
    "from langchain.retrievers.document_compressors import LLMChainExtractor\n",
    "from langchain.retrievers import ContextualCompressionRetriever\n",
    "\n",
    "base_retriever = vector_store.as_retriever(search_type = \"similarity\", search_kwargs={\"k\": 5})\n",
    "llm = ChatOpenAI(temperature=0)\n",
    "compressor = LLMChainExtractor.from_llm(llm)\n",
    "\n",
    "compression_retriever = ContextualCompressionRetriever(\n",
    "    base_compressor=compressor,\n",
    "    base_retriever=base_retriever\n",
    ")"
   ]
  },
  {
   "cell_type": "code",
   "execution_count": 46,
   "metadata": {},
   "outputs": [
    {
     "name": "stdout",
     "output_type": "stream",
     "text": [
      "Compressed Document:\n",
      "page_content='- \"during the spring and summer months\"\n",
      "- \"Hikers should wear sturdy hiking boots, weather -appropriate clothing, and bring plenty of water and snacks for longer treks.\"\n",
      "- \"Mourne Mountains\"\n",
      "- \"Venture north to County Down\"\n",
      "- \"Slieve Donard, Northern Ireland's highest peak\"' metadata={'page': 0.0, 'source': \"data\\\\A Hiker's Paradise.pdf\"}\n",
      "\n",
      "\n",
      "Compressed Document:\n",
      "page_content='- The best time to visit is during the summer months when the weather is mild, and the days are long.\n",
      "- Hikers should wear sturdy hiking boots with good grip, layers to protect against wind and rain, and bring a camera to capture the breathtaking views.\n",
      "- Carrauntoohil: In the heart of County Kerry lies Carrauntoohil, Ireland's highest peak and a magnet for hikers seeking a challenge.' metadata={'page': 1.0, 'source': \"data\\\\A Hiker's Paradise.pdf\"}\n",
      "\n",
      "\n",
      "Compressed Document:\n",
      "page_content='- The best time to visit is during the spring and summer months when the weather is mild, and the landscape is alive with color.' metadata={'page': 0.0, 'source': \"data\\\\A Hiker's Paradise.pdf\"}\n",
      "\n",
      "\n",
      "Compressed Document:\n",
      "page_content='- Wicklow Mountains:  \n",
      "Nestled just south of Dublin, the Wicklow Mountains are a hiker's playground, boasting an \n",
      "extensive network of trails that wind through heather -clad slopes, tranquil lakes, and ancient \n",
      "woodlands. The Wicklow Way, a long -distance trail spanning 131 kilometers, showcases the best of \n",
      "this region, with highlights including the challenging ascent of Lugnaquilla, Wicklow's highest \n",
      "peak, and the serene beauty of Glendalough Valley. Hikes in the Wicklow Mountains can range \n",
      "from a few hours to several days, depending on the chosen route and fitness level.' metadata={'page': 0.0, 'source': \"data\\\\A Hiker's Paradise.pdf\"}\n",
      "\n",
      "\n"
     ]
    }
   ],
   "source": [
    "#Relevant docs based on context compression\n",
    "compressed_docs= compression_retriever.get_relevant_documents(query)\n",
    "\n",
    "for doc in compressed_docs:\n",
    "    print(\"Compressed Document:\")\n",
    "    print(doc)\n",
    "    print(\"\\n\")"
   ]
  },
  {
   "cell_type": "code",
   "execution_count": 16,
   "metadata": {},
   "outputs": [
    {
     "name": "stdout",
     "output_type": "stream",
     "text": [
      "\n",
      "\n",
      "\u001b[1m> Entering new LLMChain chain...\u001b[0m\n",
      "Prompt after formatting:\n",
      "\u001b[32;1m\u001b[1;3mGiven the following user query, optimise it for the retrieveal by identifying key concepts and expanding on them:\n",
      "\n",
      "User query:I want to hike in the summer. Could you suggest what are the best destinations for hiking? Im also interested in visiting towns\n",
      "\n",
      "Oprimised query:\u001b[0m\n",
      "\n",
      "\u001b[1m> Finished chain.\u001b[0m\n"
     ]
    },
    {
     "data": {
      "text/plain": [
       "'I am looking for the best hiking destinations for the summer. Additionally, I am interested in visiting towns during my trip. Can you suggest some ideal locations for hiking and exploring towns during the summer months?'"
      ]
     },
     "execution_count": 16,
     "metadata": {},
     "output_type": "execute_result"
    }
   ],
   "source": [
    "#optimise query\n",
    "from langchain.prompts import PromptTemplate\n",
    "from langchain.chains import LLMChain\n",
    "optimisation_template = \"\"\"Given the following user query, optimise it for the retrieval by identifying key concepts and expanding on them:\n",
    "\n",
    "User query:{query}\n",
    "\n",
    "Oprimised query:\"\"\"\n",
    "\n",
    "optimisation_prompt = PromptTemplate(template=optimisation_template, input_variables=['query'])\n",
    "optimisation_chain = LLMChain(llm=llm, prompt = optimisation_prompt, verbose=True)\n",
    "optimised_query = optimisation_chain.run(query)\n",
    "optimised_query"
   ]
  },
  {
   "cell_type": "code",
   "execution_count": 33,
   "metadata": {},
   "outputs": [
    {
     "name": "stdout",
     "output_type": "stream",
     "text": [
      "\n",
      "\n",
      "\u001b[1m> Entering new RetrievalQA chain...\u001b[0m\n",
      "\n",
      "\u001b[1m> Finished chain.\u001b[0m\n"
     ]
    },
    {
     "data": {
      "text/plain": [
       "{'query': 'I am looking for the best hiking destinations for the summer. Additionally, I am interested in visiting towns during my trip. Can you suggest some ideal locations for hiking and exploring towns during the summer months?',\n",
       " 'result': 'One ideal location for hiking and exploring towns during the summer months is the Wicklow Mountains in Ireland. The mild weather and long days make it a perfect destination for outdoor activities. The extensive network of trails offers a variety of options for hikers of all levels, and the nearby towns provide opportunities for exploring local culture and history.',\n",
       " 'source_documents': [Document(metadata={'page': 1.0, 'source': \"data\\\\A Hiker's Paradise.pdf\"}, page_content='summer months when the weather is mild, and the days are long.'),\n",
       "  Document(metadata={'page': 0.0, 'source': \"data\\\\A Hiker's Paradise.pdf\"}, page_content='spring and summer months when the weather is mild, and the landscape is alive with color.'),\n",
       "  Document(metadata={'page': 0.0, 'source': \"data\\\\A Hiker's Paradise.pdf\"}, page_content='Wicklow Mountains:'),\n",
       "  Document(metadata={'page': 0.0, 'source': \"data\\\\A Hiker's Paradise.pdf\"}, page_content=\"Wicklow Mountains:  \\nNestled just south of Dublin, the Wicklow Mountains are a hiker's playground, boasting an \\nextensive network of trails that wind through heather -clad slopes, tranquil lakes, and ancient \\nwoodlands. The Wicklow Way, a long -distance trail spanning 131 kilometers, showcases the best of \\nthis region, with highlights including the challenging ascent of Lugnaquilla, Wicklow's highest \\npeak, and the serene beauty of Glendalough Valley. Hikes in the Wicklow Mountains can range \\nfrom a few hours to several days, depending on the chosen route and fitness level. The best time\")]}"
      ]
     },
     "execution_count": 33,
     "metadata": {},
     "output_type": "execute_result"
    }
   ],
   "source": [
    "#RAG Pipeline\n",
    "from langchain.chains import RetrievalQA\n",
    "\n",
    "qa_chain = RetrievalQA.from_chain_type(\n",
    "    llm = llm,\n",
    "    chain_type = \"stuff\",\n",
    "    retriever = compression_retriever,\n",
    "    return_source_documents = True,\n",
    "    chain_type_kwargs={\n",
    "        \"prompt\": PromptTemplate(\n",
    "            template=\"\"\" Use the following pieces of context to answer the question at the end.\n",
    "            If you don't know the answer, just say that you don't know. Do not try to make up an answer.\n",
    "            \n",
    "            {context}\n",
    "            \n",
    "            Question: {question}\n",
    "            Answer:\"\"\",\n",
    "            input_variables=['context', 'question']\n",
    "        ), \n",
    "    },\n",
    "    verbose =  True\n",
    ")\n",
    "\n",
    "result = qa_chain({'query': optimised_query})\n",
    "result"
   ]
  },
  {
   "cell_type": "code",
   "execution_count": null,
   "metadata": {},
   "outputs": [],
   "source": [
    "# Display the flow of data\n",
    "print(\"Data Flow in the RAG Pipeline:\")\n",
    "print(f\"Initial Query: {optimised_query['query']}\")\n",
    "print(f\"Optimized Query: {optimised_query['optimized_query']}\")\n",
    "print(f\"Prompt Context: {qa_chain.chain_type_kwargs['prompt'].template}\")"
   ]
  },
  {
   "cell_type": "code",
   "execution_count": 49,
   "metadata": {},
   "outputs": [
    {
     "name": "stdout",
     "output_type": "stream",
     "text": [
      "Original query: I want to hike in the summer. Could you suggest what are the best destinations for hiking? Im also interested in visiting towns\n",
      "Optimized query: I am looking for the best hiking destinations for the summer. Additionally, I am interested in visiting towns during my trip. Can you suggest some ideal locations for hiking and exploring towns during the summer months?\n",
      "Answer: Some ideal locations for hiking and exploring towns during the summer months in Ireland could be the Mourne Mountains in County Down and the Wicklow Mountains. Both offer great hiking opportunities with stunning landscapes and are located near towns where you can explore and experience local culture.\n"
     ]
    }
   ],
   "source": [
    "# Print results\n",
    "print(f\"Original query: {query}\")\n",
    "print(f\"Optimized query: {optimised_query}\")\n",
    "print(f\"Answer: {result['result']}\")\n",
    "print(\"\\nSource documents:\")\n",
    "for doc in result['source_documents']:\n",
    "    print(f\"- {doc.page_content}...\")"
   ]
  },
  {
   "cell_type": "code",
   "execution_count": 37,
   "metadata": {},
   "outputs": [],
   "source": [
    "# Run the RetrievalQA pipeline without context compression\n",
    "retriever_qa_chain = RetrievalQA.from_chain_type(\n",
    "    llm=llm,\n",
    "    chain_type=\"stuff\",\n",
    "    retriever = retriever,\n",
    "    return_source_documents=True,\n",
    "    chain_type_kwargs={\n",
    "        \"prompt\": PromptTemplate(\n",
    "            template=\"\"\"Use the following pieces of context to answer the question at the end. \n",
    "            If you don't know the answer, just say that you don't know, don't try to make up an answer.\n",
    "\n",
    "            {context}\n",
    "\n",
    "            Question: {question}\n",
    "            Answer:\"\"\",\n",
    "            input_variables=[\"context\", \"question\"],\n",
    "        ),\n",
    "    },\n",
    ")"
   ]
  },
  {
   "cell_type": "code",
   "execution_count": 48,
   "metadata": {},
   "outputs": [
    {
     "name": "stdout",
     "output_type": "stream",
     "text": [
      "Original query: I want to hike in the summer. Could you suggest what are the best destinations for hiking? Im also interested in visiting towns\n",
      "Optimized query: I am looking for the best hiking destinations for the summer. Additionally, I am interested in visiting towns during my trip. Can you suggest some ideal locations for hiking and exploring towns during the summer months?\n",
      "Answer: Some ideal locations for hiking and exploring towns during the summer months in Ireland could be the Mourne Mountains in County Down and the Wicklow Mountains. Both offer great hiking opportunities with stunning landscapes and are located near towns where you can explore and experience local culture.\n"
     ]
    }
   ],
   "source": [
    "# Execute the pipeline without context compression\n",
    "result = retriever_qa_chain({\"query\": optimised_query})\n",
    "\n",
    "# Print the results without context compression\n",
    "print(f\"Original query: {query}\")\n",
    "print(f\"Optimized query: {optimised_query}\")\n",
    "print(f\"Answer: {result['result']}\")\n",
    "\n"
   ]
  }
 ],
 "metadata": {
  "kernelspec": {
   "display_name": ".venv",
   "language": "python",
   "name": "python3"
  },
  "language_info": {
   "codemirror_mode": {
    "name": "ipython",
    "version": 3
   },
   "file_extension": ".py",
   "mimetype": "text/x-python",
   "name": "python",
   "nbconvert_exporter": "python",
   "pygments_lexer": "ipython3",
   "version": "3.12.3"
  }
 },
 "nbformat": 4,
 "nbformat_minor": 2
}
